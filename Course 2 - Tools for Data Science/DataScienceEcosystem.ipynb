{
 "cells": [
  {
   "cell_type": "markdown",
   "id": "d1fdeba9-2ac5-429e-8823-51f10b7ee573",
   "metadata": {
    "panel-layout": {
     "height": 51.13999938964844,
     "visible": true,
     "width": 100
    }
   },
   "source": [
    "# Data Science Tools and Ecosystem"
   ]
  },
  {
   "cell_type": "markdown",
   "id": "eef14a5c-2053-474b-a1ec-80a648563423",
   "metadata": {
    "panel-layout": {
     "height": 51.13999938964844,
     "visible": true,
     "width": 100
    }
   },
   "source": [
    "In this notebook, Data Science Tools and Ecosystem are summarized."
   ]
  },
  {
   "cell_type": "markdown",
   "id": "2996fbd2-099e-4663-9ad3-6bab906ee370",
   "metadata": {
    "panel-layout": {
     "height": 51.13999938964844,
     "visible": true,
     "width": 100
    }
   },
   "source": [
    "Objectives:\n",
    "1. List popular Languages for Data Science\n",
    "2. Common IDE\n",
    "3. Working with Jupyter Notebooks"
   ]
  },
  {
   "cell_type": "markdown",
   "id": "363cdf79-bf97-4804-82cf-5adadc8a926e",
   "metadata": {},
   "source": [
    "Some of the popular languages that Data Scientists use are:"
   ]
  },
  {
   "cell_type": "markdown",
   "id": "21bbe1fa-6dba-43a5-a939-006ddb3ca925",
   "metadata": {},
   "source": [
    "1. Python\n",
    "1. R\n",
    "1. Julya"
   ]
  },
  {
   "cell_type": "markdown",
   "id": "31d55ec5-29e2-4f61-b7cb-d186389c7529",
   "metadata": {},
   "source": [
    "Some of the commonly used libraries used by Data Scientists include:\n",
    "1. Panda\n",
    "2. Scikit-learn\n",
    "3. NumPy"
   ]
  },
  {
   "cell_type": "markdown",
   "id": "037ccb33-ed1e-4e4b-af8a-d06e944b3bc0",
   "metadata": {},
   "source": [
    "| Month    |\n",
    "| :-------- |\n",
    "| MySQL |\n",
    "| mangoDB |\n",
    "| Postgras |\n",
    "\n"
   ]
  },
  {
   "cell_type": "markdown",
   "id": "be894f12-9dc2-48f7-bffc-3a20ec705a4e",
   "metadata": {},
   "source": [
    "### Below are a few examples of evaluating arithmetic expressions in Python."
   ]
  },
  {
   "cell_type": "code",
   "execution_count": 2,
   "id": "660de938-0436-4d03-8ff6-0d0fdf6fdfbd",
   "metadata": {},
   "outputs": [
    {
     "data": {
      "text/plain": [
       "17"
      ]
     },
     "execution_count": 2,
     "metadata": {},
     "output_type": "execute_result"
    }
   ],
   "source": [
    "# This a simple arithmetic expression to mutiply then add integers\n",
    "(3*4)+5"
   ]
  },
  {
   "cell_type": "code",
   "execution_count": 3,
   "id": "487655bf-bdbd-4e9a-9d80-e946043cb1c8",
   "metadata": {},
   "outputs": [
    {
     "data": {
      "text/plain": [
       "3.3333333333333335"
      ]
     },
     "execution_count": 3,
     "metadata": {},
     "output_type": "execute_result"
    }
   ],
   "source": [
    "# This will convert 200 minutes to hours by diving by 60\n",
    "200/60"
   ]
  },
  {
   "cell_type": "markdown",
   "id": "1afefad2-a447-49e8-a9aa-09d29a9b67cf",
   "metadata": {},
   "source": [
    "## Author\n",
    "Javad Hamidi"
   ]
  },
  {
   "cell_type": "code",
   "execution_count": null,
   "id": "e1ccc9ff-d674-4459-b70a-9f01f120c726",
   "metadata": {},
   "outputs": [],
   "source": []
  }
 ],
 "metadata": {
  "kernelspec": {
   "display_name": "Python 3 (ipykernel)",
   "language": "python",
   "name": "python3"
  },
  "language_info": {
   "codemirror_mode": {
    "name": "ipython",
    "version": 3
   },
   "file_extension": ".py",
   "mimetype": "text/x-python",
   "name": "python",
   "nbconvert_exporter": "python",
   "pygments_lexer": "ipython3",
   "version": "3.12.7"
  },
  "panel-cell-order": [
   "d1fdeba9-2ac5-429e-8823-51f10b7ee573",
   "eef14a5c-2053-474b-a1ec-80a648563423"
  ]
 },
 "nbformat": 4,
 "nbformat_minor": 5
}
